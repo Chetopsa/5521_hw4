{
 "cells": [
  {
   "cell_type": "code",
   "execution_count": null,
   "metadata": {},
   "outputs": [],
   "source": [
    "import numpy as np\n",
    "import pandas as pd\n",
    "from sklearn import svm\n",
    "from sklearn.metrics import classification_report,confusion_matrix, ConfusionMatrixDisplay\n",
    "from matplotlib import pyplot as plt"
   ]
  },
  {
   "cell_type": "code",
   "execution_count": null,
   "metadata": {},
   "outputs": [],
   "source": [
    "def MakeConfusionMatrix(z, y, labels=None):\n",
    "    z = np.array(z).reshape(-1)\n",
    "    y = np.array(y).reshape(-1)\n",
    "    unique_labels = np.unique(np.concatenate([y, z]))\n",
    "    if labels is None:\n",
    "        labels = unique_labels\n",
    "    else:\n",
    "        labels = np.array(labels)\n",
    "    labels = sorted(labels)\n",
    "    nlabels = len(labels)\n",
    "    confusion = np.array([\n",
    "        [np.sum((z == labels[i]) & (y == labels[j])) for j in range(nlabels)]\n",
    "        for i in range(nlabels)\n",
    "    ])\n",
    "    index = [f'predicted_{labels[i]}' for i in range(nlabels)]\n",
    "    columns = [f'truly_{labels[i]}' for i in range(nlabels)]\n",
    "    confusion_matrix = pd.DataFrame(confusion, index=index, columns=columns)\n",
    "    return confusion_matrix\n"
   ]
  }
 ],
 "metadata": {
  "language_info": {
   "name": "python"
  }
 },
 "nbformat": 4,
 "nbformat_minor": 2
}
